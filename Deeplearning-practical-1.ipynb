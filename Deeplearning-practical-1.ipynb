{
 "cells": [
  {
   "cell_type": "markdown",
   "id": "510db0be-a41d-49df-a8b0-17992302ae39",
   "metadata": {},
   "source": [
    "1. Implementation McCulloch's pit Neuron."
   ]
  },
  {
   "cell_type": "code",
   "execution_count": 3,
   "id": "bbc59f41-de87-4b04-95a9-2d49ecabc28f",
   "metadata": {},
   "outputs": [],
   "source": [
    "def mcp_neuron(inputs, weights, threshold):\n",
    "    # Compute the weighted sum\n",
    "    weighted_sum = sum(i * w for i, w in zip(inputs, weights))\n",
    "    \n",
    "    # Return 1 if the weighted sum is greater than or equal to the threshold, else 0\n",
    "    return 1 if weighted_sum >= threshold else 0"
   ]
  },
  {
   "cell_type": "code",
   "execution_count": 4,
   "id": "763da5eb-1a7b-486c-b151-6f5f46e8aff5",
   "metadata": {},
   "outputs": [
    {
     "name": "stdout",
     "output_type": "stream",
     "text": [
      "Neuron Output: 1\n"
     ]
    }
   ],
   "source": [
    "# Example for AND gate\n",
    "inputs = [1, 1]          # Inputs to the neuron\n",
    "weights = [0.5, 0.5]     # Weights for each input\n",
    "threshold = 1.0          # Threshold for activation\n",
    "\n",
    "# Compute and print the output\n",
    "output = mcp_neuron(inputs, weights, threshold)\n",
    "print(f\"Neuron Output: {output}\")"
   ]
  },
  {
   "cell_type": "markdown",
   "id": "bda69f20-6a6c-4d85-b9b8-fa11dc50e814",
   "metadata": {},
   "source": [
    "#Explanation:\n",
    "Inputs: [1, 1] for an AND gate.\n",
    "Weights: [0.5, 0.5] ensure that both inputs contribute equally.\n",
    "Threshold: 1.0 ensures the output is 1 only when both inputs are 1.\n",
    "The output will be 0 for other input combinations like [0, 1], [1, 0], or [0, 0]."
   ]
  }
 ],
 "metadata": {
  "kernelspec": {
   "display_name": "Python 3 (ipykernel)",
   "language": "python",
   "name": "python3"
  },
  "language_info": {
   "codemirror_mode": {
    "name": "ipython",
    "version": 3
   },
   "file_extension": ".py",
   "mimetype": "text/x-python",
   "name": "python",
   "nbconvert_exporter": "python",
   "pygments_lexer": "ipython3",
   "version": "3.9.15"
  }
 },
 "nbformat": 4,
 "nbformat_minor": 5
}
