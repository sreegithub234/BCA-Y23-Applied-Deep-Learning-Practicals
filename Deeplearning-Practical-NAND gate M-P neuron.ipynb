{
 "cells": [
  {
   "cell_type": "raw",
   "id": "f3a1e688-3bee-4d58-922b-ef59d961125f",
   "metadata": {},
   "source": [
    "3. Implement NAND, NOR using Mchlochspit"
   ]
  },
  {
   "cell_type": "raw",
   "id": "209d3575-cff6-40cd-a00d-f56c6ae849df",
   "metadata": {},
   "source": [
    "McCulloch-Pitts (MCP) model is a basic artificial neuron that works as a threshold logic unit:"
   ]
  },
  {
   "cell_type": "markdown",
   "id": "539f2f11-c7e5-4b52-875d-2a6e30bfa9d1",
   "metadata": {},
   "source": [
    "Implement NAND Gate Using McCulloch-Pitts Neuron\n",
    "\n",
    "### NAND Truth Table\n",
    "| X1  | X2  | NAND Output |\n",
    "|---- |---- |------------|\n",
    "|  0  |  0  |     1      |\n",
    "|  0  |  1  |     1      |\n",
    "|  1  |  0  |     1      |\n",
    "|  1  |  1  |     0      |\n",
    "\n",
    "### The Weight Matrix and Bias for the NAND Gate\n",
    "The weight matrix is:\n",
    "\n",
    "$$\n",
    "W = \\begin{bmatrix} -1 & -1 \\end{bmatrix}\n",
    "$$\n",
    "\n",
    "The bias is:\n",
    "\n",
    "$$\n",
    "b = 1.5\n",
    "$$\n"
   ]
  },
  {
   "cell_type": "code",
   "execution_count": 13,
   "id": "48640f6f-6af0-4f2a-b45e-7d5f862b9b46",
   "metadata": {},
   "outputs": [],
   "source": [
    "import numpy as np\n",
    "\n",
    "# McCulloch-Pitts activation function (Step Function)\n",
    "def activation(x):\n",
    "    return 1 if x >= 0 else 0\n"
   ]
  },
  {
   "cell_type": "code",
   "execution_count": 14,
   "id": "26c37cd0-219f-467a-a725-11767212d567",
   "metadata": {},
   "outputs": [
    {
     "name": "stdout",
     "output_type": "stream",
     "text": [
      "NAND(0, 0) = 1\n",
      "NAND(0, 1) = 1\n",
      "NAND(1, 0) = 1\n",
      "NAND(1, 1) = 0\n"
     ]
    }
   ],
   "source": [
    "# Testing NAND gate\n",
    "for x1 in [0, 1]:\n",
    "    for x2 in [0, 1]:\n",
    "        print(f\"NAND({x1}, {x2}) = {NAND(x1, x2)}\")"
   ]
  },
  {
   "cell_type": "markdown",
   "id": "96094017-98b8-4692-ac9f-e8a414ec6168",
   "metadata": {},
   "source": []
  },
  {
   "cell_type": "code",
   "execution_count": null,
   "id": "5aa9091d-f23d-433e-8e44-95545e909336",
   "metadata": {},
   "outputs": [],
   "source": []
  },
  {
   "cell_type": "markdown",
   "id": "c4a68787-3e61-4ef8-b8d6-1ae4cc54efec",
   "metadata": {},
   "source": [
    "Another program:"
   ]
  },
  {
   "cell_type": "markdown",
   "id": "342b4ac5-8d1e-4c76-b0d9-4736dd654baf",
   "metadata": {},
   "source": [
    "### NOR Gate using McCulloch-Pitts Neuron\n",
    "\n",
    "The **NOR gate** is implemented using the **McCulloch-Pitts neuron model** with the following parameters:\n",
    "\n",
    "- **Weights** for the inputs: \\( W = [-1, -1] \\)\n",
    "- **Bias**: \\( b = 1.5 \\)\n",
    "\n",
    "#### Truth Table for NOR Gate:\n",
    "\n",
    "| X1  | X2  | NOR Output |\n",
    "|-----|-----|------------|\n",
    "| 0   | 0   | 1          |\n",
    "| 0   | 1   | 0          |\n",
    "| 1   | 0   | 0          |\n",
    "| 1   | 1   | 0          |\n"
   ]
  },
  {
   "cell_type": "code",
   "execution_count": 16,
   "id": "f5ba3e64-89d6-44df-8221-8c2b9bca9e5c",
   "metadata": {},
   "outputs": [],
   "source": [
    "# McCulloch-Pitts activation function (Step function)\n",
    "def activation(x):\n",
    "    if x >= 0:\n",
    "        return 1\n",
    "    else:\n",
    "        return 0\n",
    "\n",
    "# NOR Gate using McCulloch-Pitts neuron with weights = [-1, -1] and bias = 1.5"
   ]
  },
  {
   "cell_type": "code",
   "execution_count": 17,
   "id": "c9c9f720-d5b9-43d2-9a1b-e6863c666d34",
   "metadata": {},
   "outputs": [],
   "source": [
    "def NOR(x1, x2):\n",
    "    W1, W2 = -1, -1  # Weights for NOR gate\n",
    "    b = 1.5  # Bias for NOR gate\n",
    "    weighted_sum = W1*x1 + W2*x2 + b  # Weighted sum + bias\n",
    "    return activation(weighted_sum)\n",
    "\n"
   ]
  },
  {
   "cell_type": "code",
   "execution_count": 18,
   "id": "219f1d21-465c-43af-9f1e-1b3a082b284c",
   "metadata": {},
   "outputs": [
    {
     "name": "stdout",
     "output_type": "stream",
     "text": [
      "Testing NOR Gate with all possible inputs:\n",
      "NOR(0, 0) = 1\n",
      "NOR(0, 1) = 1\n",
      "NOR(1, 0) = 1\n",
      "NOR(1, 1) = 0\n"
     ]
    }
   ],
   "source": [
    "\n",
    "# Test the NOR gate with all possible inputs (0 and 1 for X1, X2)\n",
    "print(\"Testing NOR Gate with all possible inputs:\")\n",
    "for x1 in [0, 1]:\n",
    "    for x2 in [0, 1]:\n",
    "        print(f\"NOR({x1}, {x2}) = {NOR(x1, x2)}\")"
   ]
  }
 ],
 "metadata": {
  "kernelspec": {
   "display_name": "Python 3 (ipykernel)",
   "language": "python",
   "name": "python3"
  },
  "language_info": {
   "codemirror_mode": {
    "name": "ipython",
    "version": 3
   },
   "file_extension": ".py",
   "mimetype": "text/x-python",
   "name": "python",
   "nbconvert_exporter": "python",
   "pygments_lexer": "ipython3",
   "version": "3.9.15"
  }
 },
 "nbformat": 4,
 "nbformat_minor": 5
}
