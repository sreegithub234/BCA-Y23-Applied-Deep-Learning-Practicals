{
 "cells": [
  {
   "cell_type": "markdown",
   "id": "21f78efb-9f00-4b30-a434-2f2a1b4ce455",
   "metadata": {},
   "source": [
    "4. Implement NAND, and NOR using Perceptron"
   ]
  },
  {
   "cell_type": "markdown",
   "id": "05625092-ec0d-4399-8e09-e09c5bc2fafb",
   "metadata": {},
   "source": [
    "### NAND Gate using Perceptron Model\n",
    "\n",
    "The **NAND gate** is implemented using a **Perceptron model** with the following parameters:\n",
    "\n",
    "- **Weights:** \\( W = [-1, -1] \\)  \n",
    "- **Bias:** \\( b = 1.5 \\)  \n",
    "\n",
    "#### Truth Table for NAND Gate:\n",
    "\n",
    "| X1  | X2  | NAND Output |\n",
    "|---- |---- |------------|\n",
    "| 0   | 0   | 1          |\n",
    "| 0   | 1   | 1          |\n",
    "| 1   | 0   | 1          |\n",
    "| 1   | 1   | 0          |\n",
    "\n",
    "Using these values, the perceptron computes the NAND output based on the weighted sum and activation function.\n"
   ]
  },
  {
   "cell_type": "markdown",
   "id": "53ba889f-9e68-4103-a32b-0d133f529ba9",
   "metadata": {},
   "source": [
    "NAND Gate using Perceptron"
   ]
  },
  {
   "cell_type": "code",
   "execution_count": 10,
   "id": "9e57f8ab-6a8f-46d1-ac30-6df5a8f7fd54",
   "metadata": {},
   "outputs": [
    {
     "name": "stdout",
     "output_type": "stream",
     "text": [
      "NAND Gate Outputs:\n",
      "NAND(0, 0) = 1\n",
      "NAND(0, 1) = 1\n",
      "NAND(1, 0) = 1\n",
      "NAND(1, 1) = 0\n"
     ]
    }
   ],
   "source": [
    "import numpy as np\n",
    "\n",
    "# Step activation function\n",
    "def activation(x):\n",
    "    return 1 if x >= 0 else 0\n",
    "\n",
    "# NAND Gate Perceptron\n",
    "def NAND(x1, x2):\n",
    "    weights = [-1, -1]  # Weights for NAND gate\n",
    "    bias = 1.5  # Bias for NAND gate\n",
    "    weighted_sum = np.dot(weights, [x1, x2]) + bias  # Compute weighted sum + bias\n",
    "    return activation(weighted_sum)\n",
    "\n",
    "# Testing NAND Gate\n",
    "print(\"NAND Gate Outputs:\")\n",
    "for x1 in [0, 1]:\n",
    "    for x2 in [0, 1]:\n",
    "        print(f\"NAND({x1}, {x2}) = {NAND(x1, x2)}\")\n"
   ]
  },
  {
   "cell_type": "markdown",
   "id": "652f578d-9674-4f24-a0de-6034f7bd36ce",
   "metadata": {},
   "source": [
    "### NOR Gate using Perceptron Model\n",
    "\n",
    "The **NOR gate** is implemented using a **Perceptron model** with the following parameters:\n",
    "\n",
    "- **Weights**: \\( W = [-1, -1] \\)\n",
    "- **Bias**: \\( b = 0.5 \\)\n",
    "\n",
    "#### Truth Table for NOR Gate:\n",
    "\n",
    "| X1  | X2  | NOR Output |\n",
    "|---- |---- |-----------|\n",
    "| 0   | 0   | 1         |\n",
    "| 0   | 1   | 0         |\n",
    "| 1   | 0   | 0         |\n",
    "| 1   | 1   | 0         |\n",
    "\n",
    "Using these values, the perceptron computes the NOR output based on the weighted sum and activation function.\n"
   ]
  },
  {
   "cell_type": "markdown",
   "id": "27d9d3a0-29de-4d2a-96f5-e9d89aa922d4",
   "metadata": {},
   "source": [
    "NOR Gate using Perceptron"
   ]
  },
  {
   "cell_type": "code",
   "execution_count": 16,
   "id": "1d7b8875-b14a-489d-ac5e-b07df7bdf3ad",
   "metadata": {},
   "outputs": [
    {
     "name": "stdout",
     "output_type": "stream",
     "text": [
      "NOR Gate Outputs:\n",
      "NOR(0, 0) = 1\n",
      "NOR(0, 1) = 0\n",
      "NOR(1, 0) = 0\n",
      "NOR(1, 1) = 0\n"
     ]
    }
   ],
   "source": [
    "import numpy as np\n",
    "\n",
    "# Step activation function\n",
    "def activation(x):\n",
    "    return 1 if x >= 0 else 0\n",
    "\n",
    "# NOR Gate Perceptron\n",
    "def NOR(x1, x2):\n",
    "    weights = [-1, -1]  # Weights for NOR gate\n",
    "    bias = 0.5  # Corrected Bias for NOR gate\n",
    "    weighted_sum = np.dot(weights, [x1, x2]) + bias  # Compute weighted sum + bias\n",
    "    return activation(weighted_sum)\n",
    "\n",
    "# Testing NOR Gate\n",
    "print(\"NOR Gate Outputs:\")\n",
    "for x1 in [0, 1]:\n",
    "    for x2 in [0, 1]:\n",
    "        print(f\"NOR({x1}, {x2}) = {NOR(x1, x2)}\")\n"
   ]
  }
 ],
 "metadata": {
  "kernelspec": {
   "display_name": "Python 3 (ipykernel)",
   "language": "python",
   "name": "python3"
  },
  "language_info": {
   "codemirror_mode": {
    "name": "ipython",
    "version": 3
   },
   "file_extension": ".py",
   "mimetype": "text/x-python",
   "name": "python",
   "nbconvert_exporter": "python",
   "pygments_lexer": "ipython3",
   "version": "3.12.4"
  }
 },
 "nbformat": 4,
 "nbformat_minor": 5
}
