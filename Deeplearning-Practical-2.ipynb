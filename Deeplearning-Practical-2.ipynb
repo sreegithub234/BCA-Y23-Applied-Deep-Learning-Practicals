{
 "cells": [
  {
   "cell_type": "markdown",
   "id": "a2ab8df5-8294-4d4c-8c6e-7aaadfeda15b",
   "metadata": {},
   "source": [
    "2. Perceptron rule learning\n"
   ]
  },
  {
   "cell_type": "code",
   "execution_count": 1,
   "id": "5adf4d7a-8d24-47e6-b2f0-ac0e31000f65",
   "metadata": {},
   "outputs": [],
   "source": [
    "import numpy as np"
   ]
  },
  {
   "cell_type": "code",
   "execution_count": 3,
   "id": "def4116f-7c6c-42f1-a300-eee592fa5105",
   "metadata": {},
   "outputs": [],
   "source": [
    "def perceptron(X, y, learning_rate=0.1, epochs=10):\n",
    "    weights = np.zeros(X.shape[1])  # Initialize weights to 0\n",
    "    bias = 0  # Initialize bias to 0\n",
    "\n",
    "    # Training loop\n",
    "    for _ in range(epochs):\n",
    "        for xi, target in zip(X, y):\n",
    "            output = 1 if np.dot(xi, weights) + bias >= 0 else 0\n",
    "            error = target - output\n",
    "            weights += learning_rate * error * xi  # Update weights\n",
    "            bias += learning_rate * error  # Update bias\n",
    "\n",
    "    return weights, bias\n"
   ]
  },
  {
   "cell_type": "code",
   "execution_count": 5,
   "id": "3078ea22-633f-4448-9943-b588a8c144ab",
   "metadata": {},
   "outputs": [],
   "source": [
    "# Inputs (X) for AND gate\n",
    "X = np.array([[0, 0], [0, 1], [1, 0], [1, 1]])\n",
    "y = np.array([0, 0, 0, 1])  # Expected outputs for AND gate\n"
   ]
  },
  {
   "cell_type": "code",
   "execution_count": 7,
   "id": "03ea6a86-59ec-4e07-93d3-c1878f25f5f3",
   "metadata": {},
   "outputs": [],
   "source": [
    "# Train the perceptron\n",
    "weights, bias = perceptron(X, y)"
   ]
  },
  {
   "cell_type": "code",
   "execution_count": 9,
   "id": "eccb3144-7b09-48cd-9642-bd8309881182",
   "metadata": {},
   "outputs": [
    {
     "name": "stdout",
     "output_type": "stream",
     "text": [
      "[0.2 0.1] -0.20000000000000004\n"
     ]
    }
   ],
   "source": [
    "# Output the learned weights and bias\n",
    "print(weights, bias)\n"
   ]
  },
  {
   "cell_type": "code",
   "execution_count": 11,
   "id": "63cd9b69-8c62-405e-9a8f-dbd3410e8800",
   "metadata": {},
   "outputs": [],
   "source": [
    "# Prediction function\n",
    "def predict(x, weights, bias):\n",
    "    return 1 if np.dot(x, weights) + bias >= 0 else 0"
   ]
  },
  {
   "cell_type": "code",
   "execution_count": 13,
   "id": "a3e1de62-41e3-44e1-8986-acbac95b3def",
   "metadata": {},
   "outputs": [
    {
     "name": "stdout",
     "output_type": "stream",
     "text": [
      "0\n",
      "0\n",
      "0\n",
      "1\n"
     ]
    }
   ],
   "source": [
    "\n",
    "# Test predictions\n",
    "for x in X:\n",
    "    print(predict(x, weights, bias))"
   ]
  },
  {
   "cell_type": "code",
   "execution_count": null,
   "id": "4ea73921-994b-429f-88d8-a9ee147a9863",
   "metadata": {},
   "outputs": [],
   "source": [
    "Explanation:\n",
    "weights and bias: Start at zero and are updated through training.\n",
    "Training: The weights are updated based on the error (difference between expected and predicted output).\n",
    "Prediction: Once trained, it predicts the output for all inputs."
   ]
  }
 ],
 "metadata": {
  "kernelspec": {
   "display_name": "Python 3 (ipykernel)",
   "language": "python",
   "name": "python3"
  },
  "language_info": {
   "codemirror_mode": {
    "name": "ipython",
    "version": 3
   },
   "file_extension": ".py",
   "mimetype": "text/x-python",
   "name": "python",
   "nbconvert_exporter": "python",
   "pygments_lexer": "ipython3",
   "version": "3.9.15"
  }
 },
 "nbformat": 4,
 "nbformat_minor": 5
}
